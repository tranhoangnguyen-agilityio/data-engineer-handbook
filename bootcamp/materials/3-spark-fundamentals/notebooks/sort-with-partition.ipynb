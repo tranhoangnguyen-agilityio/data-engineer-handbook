{
 "cells": [
  {
   "cell_type": "code",
   "execution_count": 1,
   "id": "39422de0-d63c-40cd-b33d-e7b98286422e",
   "metadata": {},
   "outputs": [],
   "source": [
    "from pyspark.sql import SparkSession"
   ]
  },
  {
   "cell_type": "code",
   "execution_count": 3,
   "id": "5fb13533-c735-49bf-85bf-f83bdbaa01de",
   "metadata": {},
   "outputs": [
    {
     "name": "stderr",
     "output_type": "stream",
     "text": [
      "25/01/20 03:29:29 WARN SparkSession: Using an existing Spark session; only runtime SQL configurations will take effect.\n"
     ]
    }
   ],
   "source": [
    "# Create a Spark session\n",
    "spark = SparkSession.builder.appName(\"SortWithinPartitions\").getOrCreate()"
   ]
  },
  {
   "cell_type": "code",
   "execution_count": 4,
   "id": "1814b2dd-4205-4046-aea2-fc86ccb13d5b",
   "metadata": {},
   "outputs": [
    {
     "name": "stderr",
     "output_type": "stream",
     "text": [
      "                                                                                \r"
     ]
    },
    {
     "name": "stdout",
     "output_type": "stream",
     "text": [
      "+---+-----+\n",
      "| id|value|\n",
      "+---+-----+\n",
      "|  1|    a|\n",
      "|  3|    c|\n",
      "|  2|    b|\n",
      "|  4|    d|\n",
      "+---+-----+\n",
      "\n"
     ]
    }
   ],
   "source": [
    "# Create a DataFrame\n",
    "data = [(1, \"a\"), (3, \"c\"), (2, \"b\"), (4, \"d\")]\n",
    "df = spark.createDataFrame(data, [\"id\", \"value\"])\n",
    "df.show()"
   ]
  },
  {
   "cell_type": "code",
   "execution_count": 11,
   "id": "c728d534-914e-405f-b28c-0016d8cc1a5b",
   "metadata": {},
   "outputs": [
    {
     "name": "stdout",
     "output_type": "stream",
     "text": [
      "+---+-----+\n",
      "| id|value|\n",
      "+---+-----+\n",
      "|  2|    b|\n",
      "|  4|    d|\n",
      "|  1|    a|\n",
      "|  3|    c|\n",
      "+---+-----+\n",
      "\n",
      "+---+-----+\n",
      "| id|value|\n",
      "+---+-----+\n",
      "|  1|    a|\n",
      "|  2|    b|\n",
      "|  3|    c|\n",
      "|  4|    d|\n",
      "+---+-----+\n",
      "\n"
     ]
    }
   ],
   "source": [
    "# Repartition the data into 2 partitions\n",
    "df = df.repartition(2, \"id\")\n",
    "\n",
    "# Sort within each partition\n",
    "sorted_df = df.sortWithinPartitions(\"id\")\n",
    "sorted_df.show()\n",
    "\n",
    "# Sort across partitions\n",
    "sorted_across_partitions_df = df.sort(\"id\")\n",
    "sorted_across_partitions_df.show()"
   ]
  },
  {
   "cell_type": "code",
   "execution_count": null,
   "id": "8bef71aa-9b55-4a74-82f1-003b8ff6e3ee",
   "metadata": {},
   "outputs": [],
   "source": []
  }
 ],
 "metadata": {
  "kernelspec": {
   "display_name": "Python 3 (ipykernel)",
   "language": "python",
   "name": "python3"
  },
  "language_info": {
   "codemirror_mode": {
    "name": "ipython",
    "version": 3
   },
   "file_extension": ".py",
   "mimetype": "text/x-python",
   "name": "python",
   "nbconvert_exporter": "python",
   "pygments_lexer": "ipython3",
   "version": "3.9.18"
  }
 },
 "nbformat": 4,
 "nbformat_minor": 5
}
