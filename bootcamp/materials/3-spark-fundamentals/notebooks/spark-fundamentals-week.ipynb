{
 "cells": [
  {
   "cell_type": "code",
   "execution_count": 75,
   "id": "7c3eeb6d-79dc-46a2-abbc-1d398c00cfdf",
   "metadata": {},
   "outputs": [],
   "source": [
    "from pyspark.sql import SparkSession\n",
    "from pyspark.sql.functions import broadcast, col, when, sum, count, desc, min, countDistinct"
   ]
  },
  {
   "cell_type": "code",
   "execution_count": 76,
   "id": "7b8aa0d5-7925-4c64-8679-d8dc24c38feb",
   "metadata": {},
   "outputs": [],
   "source": [
    "spark = SparkSession.builder.appName(\"spark-fundamentals-homework\").getOrCreate()"
   ]
  },
  {
   "cell_type": "code",
   "execution_count": 77,
   "id": "c1985858-c40f-4c0f-8b7b-88f73148c9a1",
   "metadata": {},
   "outputs": [],
   "source": [
    "# Read the medals data\n",
    "medals = spark.read.option(\"header\", \"true\").csv(\"/home/iceberg/data/medals.csv\")\n",
    "\n",
    "# Read the matches data\n",
    "matches = spark.read \\\n",
    "    .option(\"header\", \"true\") \\\n",
    "    .option(\"inferSchema\", \"true\") \\\n",
    "    .csv(\"/home/iceberg/data/matches.csv\")\n",
    "\n",
    "# Read the match details data\n",
    "match_details = spark.read \\\n",
    "    .option(\"header\", \"true\") \\\n",
    "    .option(\"inferSchema\", \"true\") \\\n",
    "    .csv(\"/home/iceberg/data/match_details.csv\")\n",
    "\n",
    "# Read the medals_matches_players data\n",
    "medals_matches_players = spark.read.option(\"header\", \"true\").csv(\"/home/iceberg/data/medals_matches_players.csv\")\n",
    "\n",
    "# Read the maps data\n",
    "maps = spark.read.option(\"header\", \"true\").csv(\"/home/iceberg/data/maps.csv\")"
   ]
  },
  {
   "cell_type": "code",
   "execution_count": 78,
   "id": "ca964353-20d7-43c7-9881-8c9473a3b4bc",
   "metadata": {},
   "outputs": [],
   "source": [
    "# Disabled automatic broadcast join\n",
    "spark.conf.set(\"spark.sql.autoBroadcastJoinThreshold\", \"-1\")"
   ]
  },
  {
   "cell_type": "code",
   "execution_count": 79,
   "id": "d8dc2118-ef0d-40d8-b8d6-c6ae09d4a81a",
   "metadata": {},
   "outputs": [],
   "source": [
    "# Explicitly broadcast JOINs maps\n",
    "matches_with_maps = matches.join(broadcast(maps), matches.mapid == maps.mapid)"
   ]
  },
  {
   "cell_type": "code",
   "execution_count": 80,
   "id": "e94c1c3c-c969-48c1-8932-629691e34557",
   "metadata": {},
   "outputs": [],
   "source": [
    "# Explicitly broadcast JOINs medals\n",
    "medals_matches_players_with_medals = medals_matches_players.join(broadcast(medals), medals.medal_id == medals_matches_players.medal_id)"
   ]
  },
  {
   "cell_type": "code",
   "execution_count": 81,
   "id": "3039e145-6bc5-4918-b680-e517377efb2b",
   "metadata": {},
   "outputs": [
    {
     "data": {
      "text/plain": [
       "24025"
      ]
     },
     "execution_count": 81,
     "metadata": {},
     "output_type": "execute_result"
    }
   ],
   "source": [
    "matches.count()"
   ]
  },
  {
   "cell_type": "code",
   "execution_count": 82,
   "id": "3af23936-c3c8-4ad3-9214-8af92269c37f",
   "metadata": {},
   "outputs": [
    {
     "data": {
      "text/plain": [
       "DataFrame[]"
      ]
     },
     "execution_count": 82,
     "metadata": {},
     "output_type": "execute_result"
    }
   ],
   "source": [
    "# DDL Matches bucket table\n",
    "spark.sql(\"\"\"DROP TABLE IF EXISTS homework.matches_bucketed\"\"\")\n",
    "bucketedDDL = \"\"\"\n",
    "CREATE TABLE IF NOT EXISTS homework.matches_bucketed (\n",
    "     match_id STRING,\n",
    "     mapid STRING,\n",
    "     is_team_game BOOLEAN,\n",
    "     playlist_id STRING,\n",
    "     completion_date TIMESTAMP\n",
    " )\n",
    " USING iceberg\n",
    " CLUSTERED BY (match_id) INTO 16 buckets;\n",
    "\"\"\"\n",
    "spark.sql(bucketedDDL)"
   ]
  },
  {
   "cell_type": "code",
   "execution_count": 84,
   "id": "ad8a83dd-2540-4d7b-9d8c-e317aa0474a4",
   "metadata": {},
   "outputs": [],
   "source": [
    "# Persit matches data to table matches_bucketed\n",
    "matches.select(\"match_id\", \"mapid\", \"is_team_game\", \"playlist_id\", \"completion_date\") \\\n",
    "    .write.mode(\"append\") \\\n",
    "    .bucketBy(16, \"match_id\") \\\n",
    "    .saveAsTable(\"homework.matches_bucketed\")"
   ]
  },
  {
   "cell_type": "code",
   "execution_count": 85,
   "id": "95b92721-cb16-4e88-82f1-28b80a31041e",
   "metadata": {},
   "outputs": [
    {
     "data": {
      "text/plain": [
       "DataFrame[]"
      ]
     },
     "execution_count": 85,
     "metadata": {},
     "output_type": "execute_result"
    }
   ],
   "source": [
    "# DDL - match_details bucket table\n",
    "spark.sql(\"\"\"DROP TABLE IF EXISTS homework.match_details_bucketed\"\"\")\n",
    "match_details_bucketed_ddl = \"\"\"\n",
    "CREATE TABLE IF NOT EXISTS homework.match_details_bucketed (\n",
    "    match_id STRING,\n",
    "    player_gamertag STRING,\n",
    "    team_id STRING,\n",
    "    player_total_kills INTEGER,\n",
    "    player_total_deaths INTEGER,\n",
    "    did_win INTEGER\n",
    ")\n",
    "USING iceberg\n",
    "CLUSTERED BY (match_id) INTO 16 buckets;\n",
    "\"\"\"\n",
    "spark.sql(match_details_bucketed_ddl)"
   ]
  },
  {
   "cell_type": "code",
   "execution_count": 86,
   "id": "4fd88c62-a6e9-4ffc-b968-6cabae437fa5",
   "metadata": {},
   "outputs": [],
   "source": [
    "# Persit match_details_bucketed table\n",
    "match_details.select(\"match_id\", \"player_gamertag\", \"team_id\", \"player_total_kills\", \"player_total_deaths\", \"did_win\") \\\n",
    "    .write.mode(\"append\") \\\n",
    "    .bucketBy(16, \"match_id\") \\\n",
    "    .saveAsTable(\"homework.match_details_bucketed\")"
   ]
  },
  {
   "cell_type": "code",
   "execution_count": 87,
   "id": "a28767fc-f383-4e50-b77d-f8bc30442eae",
   "metadata": {},
   "outputs": [
    {
     "data": {
      "text/plain": [
       "DataFrame[]"
      ]
     },
     "execution_count": 87,
     "metadata": {},
     "output_type": "execute_result"
    }
   ],
   "source": [
    "# DDL - medals_matches_players_bucketed table\n",
    "spark.sql(\"\"\"DROP TABLE IF EXISTS homework.medals_matches_players_bucketed\"\"\")\n",
    "medals_matches_players_bucketed_ddl = \"\"\"\n",
    "CREATE TABLE IF NOT EXISTS homework.medals_matches_players_bucketed (\n",
    "    match_id STRING,\n",
    "    player_gamertag STRING,\n",
    "    medal_id STRING,\n",
    "    count STRING\n",
    ")\n",
    "USING iceberg\n",
    "CLUSTERED BY (match_id) INTO 16 buckets;\n",
    "\"\"\"\n",
    "spark.sql(medals_matches_players_bucketed_ddl)"
   ]
  },
  {
   "cell_type": "code",
   "execution_count": 88,
   "id": "ee784306-cf97-40f5-8fb0-b360f4e5653f",
   "metadata": {},
   "outputs": [],
   "source": [
    "# Persit match_details_bucketed table\n",
    "medals_matches_players.select(\"match_id\", \"player_gamertag\", \"medal_id\", \"count\") \\\n",
    "    .write.mode(\"append\") \\\n",
    "    .bucketBy(16, \"match_id\") \\\n",
    "    .saveAsTable(\"homework.medals_matches_players_bucketed\")"
   ]
  },
  {
   "cell_type": "code",
   "execution_count": 89,
   "id": "9c56b9dd-d592-44c2-aef2-3d86e8d6acbc",
   "metadata": {},
   "outputs": [
    {
     "data": {
      "text/plain": [
       "DataFrame[]"
      ]
     },
     "execution_count": 89,
     "metadata": {},
     "output_type": "execute_result"
    }
   ],
   "source": [
    "# DDL - medals table\n",
    "spark.sql(\"\"\"DROP TABLE IF EXISTS homework.medals\"\"\")\n",
    "medals_ddl = \"\"\"\n",
    "CREATE TABLE IF NOT EXISTS homework.medals (\n",
    "    medal_id STRING,\n",
    "    classification STRING,\n",
    "    description STRING,\n",
    "    name STRING\n",
    ")\n",
    "USING iceberg;\n",
    "\"\"\"\n",
    "spark.sql(medals_ddl)"
   ]
  },
  {
   "cell_type": "code",
   "execution_count": 90,
   "id": "65a8d484-8080-4ff4-8031-701f9ee251bc",
   "metadata": {},
   "outputs": [],
   "source": [
    "# Persit medals table\n",
    "medals.select(\"medal_id\", \"classification\", \"description\", \"name\") \\\n",
    "    .write.mode(\"append\") \\\n",
    "    .saveAsTable(\"homework.medals\")"
   ]
  },
  {
   "cell_type": "code",
   "execution_count": 91,
   "id": "081d940c-3797-4b5b-89ab-fe1c9b5cb83e",
   "metadata": {},
   "outputs": [],
   "source": [
    "## Aggregate - Which player averages the most kills per game?"
   ]
  },
  {
   "cell_type": "code",
   "execution_count": 142,
   "id": "27666a05-f2b1-4e1a-9603-b595aa3352d4",
   "metadata": {},
   "outputs": [],
   "source": [
    "join_sql = \"\"\"\n",
    "SELECT\n",
    "    m.match_id,\n",
    "    m.mapid as map_id,\n",
    "    m.playlist_id,\n",
    "    m_details.player_gamertag,\n",
    "    m_details.player_total_kills\n",
    "FROM homework.matches_bucketed m\n",
    "LEFT JOIN homework.match_details_bucketed m_details ON m.match_id = m_details.match_id\n",
    "\"\"\"\n",
    "joined_df = spark.sql(join_sql)"
   ]
  },
  {
   "cell_type": "code",
   "execution_count": 144,
   "id": "7d3b5ed1-f1a8-4526-be35-b063478f3fba",
   "metadata": {},
   "outputs": [
    {
     "data": {
      "text/plain": [
       "[Row(player_gamertag='gimpinator14', player_total_kills=109.0)]"
      ]
     },
     "execution_count": 144,
     "metadata": {},
     "output_type": "execute_result"
    }
   ],
   "source": [
    "# Aggregate - Which player averages the most kills per game\n",
    "match_player_kills_df = joined_df \\\n",
    "    .groupBy(\"player_gamertag\") \\\n",
    "    .agg((sum(\"player_total_kills\")/count(\"match_id\")).alias(\"player_total_kills\")) \\\n",
    "    .sort(desc(\"player_total_kills\"))\n",
    "match_player_kills_df.head(1)"
   ]
  },
  {
   "cell_type": "code",
   "execution_count": 148,
   "id": "d5c21c5d-d136-4c1c-91f7-f5cd176498ea",
   "metadata": {},
   "outputs": [
    {
     "data": {
      "text/plain": [
       "[Row(playlist_id='f72e0ef0-7c4a-4307-af78-8e38dac3fdba', count_playlist=9350)]"
      ]
     },
     "execution_count": 148,
     "metadata": {},
     "output_type": "execute_result"
    }
   ],
   "source": [
    "# Aggregate playlist gets played the most\n",
    "most_playlist_df = joined_df \\\n",
    "    .groupBy(\"playlist_id\") \\\n",
    "    .agg(countDistinct(\"match_id\").alias(\"count_playlist\")) \\\n",
    "    .sort(desc(\"count_playlist\"))\n",
    "most_playlist_df.head(1)"
   ]
  },
  {
   "cell_type": "code",
   "execution_count": 149,
   "id": "9b6e0c7f-6435-4cea-8352-55f8a33cf16f",
   "metadata": {},
   "outputs": [
    {
     "data": {
      "text/plain": [
       "[Row(map_id='c7edbf0f-f206-11e4-aa52-24be05e24f7e', count_played=8587)]"
      ]
     },
     "execution_count": 149,
     "metadata": {},
     "output_type": "execute_result"
    }
   ],
   "source": [
    "# Aggregate which maps gets played the most\n",
    "most_played_map_df = joined_df \\\n",
    "    .groupBy(\"map_id\").agg(countDistinct(\"match_id\").alias(\"count_played\")) \\\n",
    "    .sort(desc(\"count_played\"))\n",
    "most_played_map_df.head(1)"
   ]
  },
  {
   "cell_type": "code",
   "execution_count": 135,
   "id": "20d8545a-e8c4-424c-8ac4-97cbc77d404d",
   "metadata": {},
   "outputs": [
    {
     "name": "stderr",
     "output_type": "stream",
     "text": [
      "                                                                                \r"
     ]
    },
    {
     "data": {
      "text/plain": [
       "[Row(map_id='c7edbf0f-f206-11e4-aa52-24be05e24f7e', total_killingspree_medals=6919.0)]"
      ]
     },
     "execution_count": 135,
     "metadata": {},
     "output_type": "execute_result"
    }
   ],
   "source": [
    "# Aggregate which maps player get the most Killing Spree on\n",
    "join_sql = \"\"\"\n",
    "SELECT\n",
    "    m.match_id,\n",
    "    m.mapid as map_id,\n",
    "    m.playlist_id,\n",
    "    m_details.player_gamertag,\n",
    "    m_details.player_total_kills,\n",
    "    medals.classification as medal_classification,\n",
    "    medal_players.count AS medal_count\n",
    "FROM homework.matches_bucketed m\n",
    "JOIN homework.match_details_bucketed m_details ON m.match_id = m_details.match_id\n",
    "LEFT JOIN homework.medals_matches_players_bucketed medal_players ON medal_players.match_id = m.match_id AND medal_players.player_gamertag = m_details.player_gamertag\n",
    "LEFT JOIN homework.medals ON medals.medal_id = medal_players.medal_id\n",
    "\"\"\"\n",
    "player_performance_df = spark.sql(join_sql)\n",
    "most_map_has_killing_spree_df = player_performance_df \\\n",
    "    .where(player_performance_df.medal_classification == \"KillingSpree\") \\\n",
    "    .groupBy(\"map_id\") \\\n",
    "    .agg(sum(\"medal_count\").alias(\"total_killingspree_medals\")) \\\n",
    "    .sort(desc(\"total_killingspree_medals\"))\n",
    "most_map_has_killing_spree_df.head(1)"
   ]
  },
  {
   "cell_type": "code",
   "execution_count": 138,
   "id": "d7878770-8c1c-43bd-8cb7-d2ee5f1c8dde",
   "metadata": {},
   "outputs": [],
   "source": [
    "## Try out sortWithinPartition\n",
    "\n",
    "start_df = player_performance_df.repartition(9, col(\"playlist_id\"))\n",
    "first_sort_df = start_df.sortWithinPartitions(col(\"map_id\"), col(\"medal_classification\"))\n",
    "\n",
    "start_df.write.mode(\"overwrite\").saveAsTable(\"homework.player_performance_unsorted\")\n",
    "first_sort_df.write.mode(\"overwrite\").saveAsTable(\"homework.player_performance_sorted\")\n"
   ]
  },
  {
   "cell_type": "code",
   "execution_count": 139,
   "id": "e989e5c6-2936-4059-9eb8-fcf9aae706b5",
   "metadata": {},
   "outputs": [
    {
     "name": "stderr",
     "output_type": "stream",
     "text": [
      "25/01/23 08:12:22 WARN SparkSession: Using an existing Spark session; only runtime SQL configurations will take effect.\n"
     ]
    },
    {
     "data": {
      "text/html": [
       "<table>\n",
       "    <thead>\n",
       "        <tr>\n",
       "            <th>size</th>\n",
       "            <th>num_files</th>\n",
       "            <th>sorted</th>\n",
       "        </tr>\n",
       "    </thead>\n",
       "    <tbody>\n",
       "        <tr>\n",
       "            <td>4250030</td>\n",
       "            <td>9</td>\n",
       "            <td>sorted</td>\n",
       "        </tr>\n",
       "        <tr>\n",
       "            <td>4669744</td>\n",
       "            <td>9</td>\n",
       "            <td>unsorted</td>\n",
       "        </tr>\n",
       "    </tbody>\n",
       "</table>"
      ],
      "text/plain": [
       "+---------+-----------+----------+\n",
       "|    size | num_files |   sorted |\n",
       "+---------+-----------+----------+\n",
       "| 4250030 |         9 |   sorted |\n",
       "| 4669744 |         9 | unsorted |\n",
       "+---------+-----------+----------+"
      ]
     },
     "execution_count": 139,
     "metadata": {},
     "output_type": "execute_result"
    }
   ],
   "source": [
    "%%sql\n",
    "\n",
    "SELECT SUM(file_size_in_bytes) as size, COUNT(1) as num_files, 'sorted' \n",
    "FROM homework.player_performance_sorted.files\n",
    "\n",
    "UNION ALL\n",
    "SELECT SUM(file_size_in_bytes) as size, COUNT(1) as num_files, 'unsorted' \n",
    "FROM homework.player_performance_unsorted.files\n"
   ]
  },
  {
   "cell_type": "code",
   "execution_count": 147,
   "id": "16b2b09f-1b0d-4735-9a62-64a27c02b345",
   "metadata": {},
   "outputs": [
    {
     "name": "stdout",
     "output_type": "stream",
     "text": [
      "+-------+---------+--------+\n",
      "|   size|num_files|  sorted|\n",
      "+-------+---------+--------+\n",
      "|4250030|        9|  sorted|\n",
      "|4669744|        9|unsorted|\n",
      "+-------+---------+--------+\n",
      "\n"
     ]
    }
   ],
   "source": [
    "sql = \"\"\"\n",
    "SELECT SUM(file_size_in_bytes) as size, COUNT(1) as num_files, 'sorted' \n",
    "FROM homwwork.player_performance_sorted.files\n",
    "\n",
    "UNION ALL\n",
    "SELECT SUM(file_size_in_bytes) as size, COUNT(1) as num_files, 'unsorted' \n",
    "FROM homwwork.player_performance_unsorted.files\n",
    "\"\"\"\n",
    "\n",
    "spark.sql(sql).show()"
   ]
  },
  {
   "cell_type": "code",
   "execution_count": null,
   "id": "2a60d8db-f460-4b0c-b566-253c7753f2c3",
   "metadata": {},
   "outputs": [],
   "source": []
  }
 ],
 "metadata": {
  "kernelspec": {
   "display_name": "Python 3 (ipykernel)",
   "language": "python",
   "name": "python3"
  },
  "language_info": {
   "codemirror_mode": {
    "name": "ipython",
    "version": 3
   },
   "file_extension": ".py",
   "mimetype": "text/x-python",
   "name": "python",
   "nbconvert_exporter": "python",
   "pygments_lexer": "ipython3",
   "version": "3.9.18"
  }
 },
 "nbformat": 4,
 "nbformat_minor": 5
}
